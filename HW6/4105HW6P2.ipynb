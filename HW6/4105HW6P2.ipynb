{
  "nbformat": 4,
  "nbformat_minor": 0,
  "metadata": {
    "colab": {
      "provenance": [],
      "authorship_tag": "ABX9TyO5aSvhxVhJgJquNole7oKZ",
      "include_colab_link": true
    },
    "kernelspec": {
      "name": "python3",
      "display_name": "Python 3"
    },
    "language_info": {
      "name": "python"
    }
  },
  "cells": [
    {
      "cell_type": "markdown",
      "metadata": {
        "id": "view-in-github",
        "colab_type": "text"
      },
      "source": [
        "<a href=\"https://colab.research.google.com/github/Vishy-A/MachineLearningIntro/blob/main/HW6/4105HW6P2.ipynb\" target=\"_parent\"><img src=\"https://colab.research.google.com/assets/colab-badge.svg\" alt=\"Open In Colab\"/></a>"
      ]
    },
    {
      "cell_type": "code",
      "execution_count": null,
      "metadata": {
        "colab": {
          "base_uri": "https://localhost:8080/"
        },
        "id": "cWoFR-0rgy_j",
        "outputId": "808c9c36-6b0e-4212-d17c-7c612a59cc34"
      },
      "outputs": [
        {
          "output_type": "stream",
          "name": "stdout",
          "text": [
            "Downloading https://www.cs.toronto.edu/~kriz/cifar-10-python.tar.gz to ../data-unversioned/p1ch7/cifar-10-python.tar.gz\n"
          ]
        }
      ],
      "source": [
        "#Vishy Adusumilli\n",
        "#801185663\n",
        "#HW Problem 2\n",
        "\n",
        "import numpy as np\n",
        "import pandas as pd\n",
        "import torch\n",
        "%matplotlib inline\n",
        "import torch.nn as nn\n",
        "import torch.optim as optim\n",
        "from sklearn.preprocessing import StandardScaler\n",
        "from sklearn.preprocessing import MinMaxScaler\n",
        "from collections import OrderedDict\n",
        "from google.colab import drive\n",
        "import matplotlib.pyplot as plt\n",
        "from IPython.display import display\n",
        "from sklearn.model_selection import train_test_split\n",
        "torch.set_printoptions(edgeitems = 2)\n",
        "torch.manual_seed(123)\n",
        "\n",
        "\n",
        "from torchvision import datasets\n",
        "data_path = '../data-unversioned/p1ch7/'\n",
        "cifar10 = datasets.CIFAR10(data_path, train = True, download = True)\n",
        "cifar10_val = datasets.CIFAR10(data_path, train = False, download = True)\n"
      ]
    },
    {
      "cell_type": "code",
      "source": [
        "len(cifar10)\n",
        "\n",
        "\n",
        "class_names = ['airplane','automobile','bird','cat','deer',\n",
        "               'dog','frog','horse','ship','truck']\n",
        "\n"
      ],
      "metadata": {
        "id": "gI1pwCx-hjWL"
      },
      "execution_count": null,
      "outputs": []
    },
    {
      "cell_type": "code",
      "source": [
        "import os\n",
        "img, label = cifar10[99]\n"
      ],
      "metadata": {
        "id": "iE73Zl3BhxM6"
      },
      "execution_count": null,
      "outputs": []
    },
    {
      "cell_type": "code",
      "source": [
        "plt.imshow(img)\n",
        "plt.show"
      ],
      "metadata": {
        "id": "R_0u-NO7j3_G"
      },
      "execution_count": null,
      "outputs": []
    },
    {
      "cell_type": "code",
      "source": [
        "from torchvision import transforms\n",
        "to_tensor = transforms.ToTensor()\n",
        "img_t = to_tensor(img)\n",
        "img_t.shape"
      ],
      "metadata": {
        "id": "_CaRNM6Fldwq"
      },
      "execution_count": null,
      "outputs": []
    },
    {
      "cell_type": "code",
      "source": [
        "tensor_cifar10 = datasets.CIFAR10(data_path, train=True, download=False, transform=transforms.ToTensor())\n"
      ],
      "metadata": {
        "id": "DC4612K6lpUy"
      },
      "execution_count": null,
      "outputs": []
    },
    {
      "cell_type": "code",
      "source": [
        "img_t, _ = tensor_cifar10[99]\n",
        "type(img_t)"
      ],
      "metadata": {
        "id": "Ebn0rd13lwoo"
      },
      "execution_count": null,
      "outputs": []
    },
    {
      "cell_type": "code",
      "source": [
        "img_t.shape, img_t.dtype"
      ],
      "metadata": {
        "id": "hJX6Pq46l159"
      },
      "execution_count": null,
      "outputs": []
    },
    {
      "cell_type": "code",
      "source": [
        "plt.imshow(img_t.permute(1, 2, 0))\n",
        "plt.show()"
      ],
      "metadata": {
        "id": "ZLMBmAJ0l4Nw"
      },
      "execution_count": null,
      "outputs": []
    },
    {
      "cell_type": "code",
      "source": [
        "imgs = torch.stack([img_t for img_t, _ in tensor_cifar10], dim=3)\n",
        "imgs.shape"
      ],
      "metadata": {
        "id": "nz5mKTZFl776"
      },
      "execution_count": null,
      "outputs": []
    },
    {
      "cell_type": "code",
      "source": [
        "imgs.view(3, -1).mean(dim = 1)"
      ],
      "metadata": {
        "id": "EwOdJyxUmJMC"
      },
      "execution_count": null,
      "outputs": []
    },
    {
      "cell_type": "code",
      "source": [
        "imgs.view(3, -1).std(dim = 1)"
      ],
      "metadata": {
        "id": "pmeq-QbGmMBK"
      },
      "execution_count": null,
      "outputs": []
    },
    {
      "cell_type": "code",
      "source": [
        "transforms.Normalize((0.4915, .4823, .4468), (.2470, .2435, .2616))"
      ],
      "metadata": {
        "id": "x7s41ykDmOIb"
      },
      "execution_count": null,
      "outputs": []
    },
    {
      "cell_type": "code",
      "source": [
        "cifar10 = datasets.CIFAR10(\n",
        "    data_path, train = True, download = False,\n",
        "\n",
        "transform=transforms.Compose([\n",
        "    transforms.ToTensor(),\n",
        "    transforms.Normalize((.4915, .4823, .4468,), (.2470, .2435, .2616))\n",
        "])\n",
        ")\n",
        "\n",
        "cifar10val = datasets.CIFAR10(\n",
        "    data_path, train = False, download = False,\n",
        "\n",
        "transform=transforms.Compose([\n",
        "    transforms.ToTensor(),\n",
        "    transforms.Normalize((.4915, .4823, .4468,), (.2470, .2435, .2616))\n",
        "])\n",
        ")"
      ],
      "metadata": {
        "id": "Ht3PcDRxmXcI"
      },
      "execution_count": null,
      "outputs": []
    },
    {
      "cell_type": "code",
      "source": [
        "img_t, _ = cifar10[99]\n",
        "plt.imshow(img_t. permute(1, 2, 0))\n",
        "plt.show()"
      ],
      "metadata": {
        "id": "h9oYVkWSmul2"
      },
      "execution_count": null,
      "outputs": []
    },
    {
      "cell_type": "code",
      "source": [
        "label_map = {0: 0, 10: 1}\n",
        "\n",
        "cifar10 = [(img, label_map[label])\n",
        "            for img, label in cifar10\n",
        "            if label in [0, 10]]\n",
        "cifar10_val = [(img, label_map[label])\n",
        "                for img, label in cifar10_val\n",
        "               if label in [0, 10]]"
      ],
      "metadata": {
        "id": "7X9RAqKzmyMX"
      },
      "execution_count": null,
      "outputs": []
    },
    {
      "cell_type": "code",
      "source": [
        "n_out = 10\n",
        "\n",
        "model = nn.Sequential(\n",
        "    nn.Linear(3072, 512,),\n",
        "    nn.Tanh(),\n",
        "    nn.Linear(512, n_out,)\n",
        ")"
      ],
      "metadata": {
        "id": "J3z0z8myoWqZ"
      },
      "execution_count": null,
      "outputs": []
    },
    {
      "cell_type": "code",
      "source": [
        "def softmax(x):\n",
        "  return torch.exp(x) / torch.exp(x).sum()"
      ],
      "metadata": {
        "id": "iCX7Dy9yoltG"
      },
      "execution_count": null,
      "outputs": []
    },
    {
      "cell_type": "code",
      "source": [
        "x = torch.tensor([1.0, 2.0, 3.0, 4.0, 5.0, 6.0, 7.0 ,8.0, 9.0, 10.0, 11.0])\n",
        "softmax(x)"
      ],
      "metadata": {
        "id": "3s283TbCotYK"
      },
      "execution_count": null,
      "outputs": []
    },
    {
      "cell_type": "code",
      "source": [
        "softmax(x).sum()"
      ],
      "metadata": {
        "id": "wyb889gso49P"
      },
      "execution_count": null,
      "outputs": []
    },
    {
      "cell_type": "code",
      "source": [
        "model = nn.Sequential(\n",
        "    nn.Linear(3072, 512),\n",
        "    nn.Tanh(),\n",
        "    nn.Linear(512, 10),\n",
        "    nn.Softmax(dim = 1)\n",
        ")"
      ],
      "metadata": {
        "id": "QENTF9Eho6wD"
      },
      "execution_count": null,
      "outputs": []
    },
    {
      "cell_type": "code",
      "source": [
        "img, _ = cifar10[0]\n",
        "\n",
        "plt.imshow(img.permute(1, 2, 0))\n",
        "plt.show()"
      ],
      "metadata": {
        "id": "-Uyv_Z-xpFNZ"
      },
      "execution_count": null,
      "outputs": []
    },
    {
      "cell_type": "code",
      "source": [
        "img_batch = img.view(-1).unsqueeze(0)\n",
        "img_batch"
      ],
      "metadata": {
        "colab": {
          "base_uri": "https://localhost:8080/"
        },
        "id": "Cx87PIy0pVbx",
        "outputId": "19de6d26-c189-4dff-f289-2ec4f2220f09"
      },
      "execution_count": null,
      "outputs": [
        {
          "output_type": "execute_result",
          "data": {
            "text/plain": [
              "tensor([[1.2172, 1.2172,  ..., 1.9348, 1.9348]])"
            ]
          },
          "metadata": {},
          "execution_count": 198
        }
      ]
    },
    {
      "cell_type": "code",
      "source": [
        "model = nn.Sequential(\n",
        "    nn.Linear(3072, 512),\n",
        "    nn.Tanh(),\n",
        "    nn.Linear(512, 10),\n",
        "    nn.LogSoftmax(dim=1))\n",
        "\n",
        "learning_rate = 1e-2\n",
        "\n",
        "optimizer = optim.SGD(model.parameters(), lr = learning_rate)\n",
        "\n",
        "loss_func = nn.NLLLoss()\n",
        "\n",
        "epochs = 100\n",
        "\n",
        "for epoch in range(epochs):\n",
        "  for img, label in cifar10:\n",
        "    out = model(img.view(-1).unsqueeze(0))\n",
        "    loss = loss_func(out, torch.tensor([label]))\n",
        "\n",
        "    optimizer.zero_grad()\n",
        "    loss.backward()\n",
        "    optimizer.step()\n",
        "\n",
        "  print(\"Epoch: %d, Loss: %f\" % (epoch, float(loss)))\n",
        "\n"
      ],
      "metadata": {
        "colab": {
          "base_uri": "https://localhost:8080/"
        },
        "id": "niUS_H_RuNZb",
        "outputId": "d3e264bc-a5e6-4bf0-fa46-3bb5bde63153"
      },
      "execution_count": null,
      "outputs": [
        {
          "output_type": "stream",
          "name": "stdout",
          "text": [
            "Epoch: 0, Loss: 0.009385\n",
            "Epoch: 1, Loss: 0.002798\n",
            "Epoch: 2, Loss: 0.001310\n",
            "Epoch: 3, Loss: 0.000710\n",
            "Epoch: 4, Loss: 0.000441\n",
            "Epoch: 5, Loss: 0.000300\n",
            "Epoch: 6, Loss: 0.000219\n",
            "Epoch: 7, Loss: 0.000167\n",
            "Epoch: 8, Loss: 0.000133\n",
            "Epoch: 9, Loss: 0.000108\n",
            "Epoch: 10, Loss: 0.000091\n",
            "Epoch: 11, Loss: 0.000077\n",
            "Epoch: 12, Loss: 0.000067\n",
            "Epoch: 13, Loss: 0.000059\n",
            "Epoch: 14, Loss: 0.000052\n",
            "Epoch: 15, Loss: 0.000046\n",
            "Epoch: 16, Loss: 0.000042\n",
            "Epoch: 17, Loss: 0.000038\n",
            "Epoch: 18, Loss: 0.000035\n",
            "Epoch: 19, Loss: 0.000032\n",
            "Epoch: 20, Loss: 0.000030\n",
            "Epoch: 21, Loss: 0.000028\n",
            "Epoch: 22, Loss: 0.000026\n",
            "Epoch: 23, Loss: 0.000024\n",
            "Epoch: 24, Loss: 0.000023\n",
            "Epoch: 25, Loss: 0.000021\n",
            "Epoch: 26, Loss: 0.000020\n",
            "Epoch: 27, Loss: 0.000019\n",
            "Epoch: 28, Loss: 0.000018\n",
            "Epoch: 29, Loss: 0.000017\n",
            "Epoch: 30, Loss: 0.000016\n",
            "Epoch: 31, Loss: 0.000016\n",
            "Epoch: 32, Loss: 0.000015\n",
            "Epoch: 33, Loss: 0.000014\n",
            "Epoch: 34, Loss: 0.000014\n",
            "Epoch: 35, Loss: 0.000013\n",
            "Epoch: 36, Loss: 0.000013\n",
            "Epoch: 37, Loss: 0.000012\n",
            "Epoch: 38, Loss: 0.000012\n",
            "Epoch: 39, Loss: 0.000011\n",
            "Epoch: 40, Loss: 0.000011\n",
            "Epoch: 41, Loss: 0.000011\n",
            "Epoch: 42, Loss: 0.000010\n",
            "Epoch: 43, Loss: 0.000010\n",
            "Epoch: 44, Loss: 0.000010\n",
            "Epoch: 45, Loss: 0.000009\n",
            "Epoch: 46, Loss: 0.000009\n",
            "Epoch: 47, Loss: 0.000009\n",
            "Epoch: 48, Loss: 0.000009\n",
            "Epoch: 49, Loss: 0.000008\n",
            "Epoch: 50, Loss: 0.000008\n"
          ]
        }
      ]
    },
    {
      "cell_type": "code",
      "source": [
        "train_loader = torch.utils.data.DataLoader(cifar10, batch_size=64,\n",
        "                                           shuffle=True)"
      ],
      "metadata": {
        "id": "NrBcsxPR252q"
      },
      "execution_count": null,
      "outputs": []
    },
    {
      "cell_type": "code",
      "source": [
        "sequential_model = nn.Sequential(OrderedDict([\n",
        "    ('hidden_linear', nn.Linear(3072,128)),\n",
        "    ('hidden_activation', nn.Tanh()),\n",
        "    ('hidden_linear_2', nn.Linear(128, 512)),\n",
        "    ('hidden_activation', nn.Tanh()),\n",
        "    ('hidden_linear_3', nn.Linear(512, 64)),\n",
        "    ('outputlinear', nn.Linear(64,1))\n",
        "]))\n",
        "sequential_model"
      ],
      "metadata": {
        "id": "z-jCMV9ZuPLf"
      },
      "execution_count": null,
      "outputs": []
    },
    {
      "cell_type": "code",
      "source": [
        "model = nn.Sequential(\n",
        "    nn.Linear(3072, 512),\n",
        "    nn.Tanh(),\n",
        "    nn.Linear(512, 10),\n",
        "    nn.LogSoftmax(dim=1))\n",
        "\n",
        "learning_rate = 1e-2\n",
        "\n",
        "optimizer = optim.SGD(model.parameters(), lr = learning_rate)\n",
        "\n",
        "loss_func = nn.NLLLoss()\n",
        "\n",
        "epochs = 100\n",
        "\n",
        "for epoch in range(epochs):\n",
        "  for img, label in cifar10:\n",
        "    out = model(img.view(-1).unsqueeze(0))\n",
        "    loss = loss_func(out, torch.tensor([label]))\n",
        "\n",
        "    optimizer.zero_grad()\n",
        "    loss.backward()\n",
        "    optimizer.step()\n",
        "\n",
        "  print(\"Epoch: %d, Loss: %f\" % (epoch, float(loss)))\n",
        "\n"
      ],
      "metadata": {
        "id": "4x2AqkB321XT"
      },
      "execution_count": null,
      "outputs": []
    }
  ]
}